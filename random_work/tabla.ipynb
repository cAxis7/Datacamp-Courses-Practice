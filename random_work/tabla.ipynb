{
 "cells": [
  {
   "cell_type": "code",
   "execution_count": 2,
   "metadata": {},
   "outputs": [
    {
     "name": "stdout",
     "output_type": "stream",
     "text": [
      "Index(['sex', 'deathDate', 'region', 'ageRange'], dtype='object')\n",
      "      sex  deathDate    region  ageRange\n",
      "0    Male 2020-03-17     Metro  50 to 54\n",
      "1  Female 2020-03-19     Metro  50 to 54\n",
      "2    Male 2020-03-21  Mayaguez  65 to 69\n",
      "3  Female 2022-03-21       NaN  65 to 69\n",
      "4    Male 2020-03-22       NaN  70 to 74\n",
      "5  Female 2020-03-22     Metro  80 to 74\n"
     ]
    }
   ],
   "source": [
    "import pandas as pd\n",
    "\n",
    "url = 'muertes.xlsx'\n",
    "xls1 = pd.read_excel(url, sheet_name = 'Sheet1')\n",
    "\n",
    "print(xls1.keys())"
   ]
  },
  {
   "cell_type": "code",
   "execution_count": 3,
   "metadata": {},
   "outputs": [
    {
     "name": "stdout",
     "output_type": "stream",
     "text": [
      "      sex  deathDate region  ageRange\n",
      "0    Male 2020-03-17  Metro  50 to 54\n",
      "1  Female 2020-03-19  Metro  50 to 54\n",
      "5  Female 2020-03-22  Metro  80 to 74\n"
     ]
    }
   ],
   "source": [
    "metro = xls1[xls1['region'] == 'Metro']\n",
    "print(metro)"
   ]
  },
  {
   "cell_type": "code",
   "execution_count": 18,
   "metadata": {},
   "outputs": [
    {
     "name": "stdout",
     "output_type": "stream",
     "text": [
      "      sex  deathDate region  ageRange\n",
      "1  Female 2020-03-19  Metro  50 to 54\n",
      "3  Female 2022-03-21    NaN  65 to 69\n",
      "5  Female 2020-03-22  Metro  80 to 74\n"
     ]
    }
   ],
   "source": [
    "mujeres = xls1[xls1['sex'] == 'Female']\n",
    "print(mujeres)"
   ]
  },
  {
   "cell_type": "code",
   "execution_count": 4,
   "metadata": {},
   "outputs": [
    {
     "name": "stdout",
     "output_type": "stream",
     "text": [
      "      sex  deathDate region  ageRange\n",
      "0    Male 2020-03-17    NaN  50 to 54\n",
      "1  Female 2020-03-19    NaN  50 to 54\n",
      "5  Female 2020-03-22    NaN  80 to 74\n"
     ]
    },
    {
     "name": "stderr",
     "output_type": "stream",
     "text": [
      "C:\\ProgramData\\Anaconda3\\lib\\site-packages\\pandas\\core\\indexing.py:1817: SettingWithCopyWarning: \n",
      "A value is trying to be set on a copy of a slice from a DataFrame.\n",
      "Try using .loc[row_indexer,col_indexer] = value instead\n",
      "\n",
      "See the caveats in the documentation: https://pandas.pydata.org/pandas-docs/stable/user_guide/indexing.html#returning-a-view-versus-a-copy\n",
      "  self._setitem_single_column(loc, value, pi)\n"
     ]
    }
   ],
   "source": [
    "metro.loc[metro.region == 'Metro', 'region'] = 'NaN'\n",
    "print(metro)\n"
   ]
  },
  {
   "cell_type": "code",
   "execution_count": 5,
   "metadata": {},
   "outputs": [
    {
     "name": "stdout",
     "output_type": "stream",
     "text": [
      "      sex  deathDate    region  ageRange\n",
      "0    Male 2020-03-17     Metro  50 to 54\n",
      "1  Female 2020-03-19     Metro  50 to 54\n",
      "2    Male 2020-03-21  Mayaguez  65 to 69\n",
      "3  Female 2022-03-21       NaN  65 to 69\n",
      "4    Male 2020-03-22       NaN  70 to 74\n",
      "5  Female 2020-03-22     Metro  80 to 74\n",
      "0    Male 2020-03-17       NaN  50 to 54\n",
      "1  Female 2020-03-19       NaN  50 to 54\n",
      "5  Female 2020-03-22       NaN  80 to 74\n"
     ]
    }
   ],
   "source": [
    "print(xls1.append(metro))"
   ]
  },
  {
   "cell_type": "code",
   "execution_count": 6,
   "metadata": {},
   "outputs": [],
   "source": [
    "##frames = [xls, metro]\n",
    "##result = pd.concat(frames)\n",
    "##result\n",
    "##result['deathDate'].as\n",
    "##print(result)"
   ]
  },
  {
   "cell_type": "code",
   "execution_count": 7,
   "metadata": {},
   "outputs": [
    {
     "name": "stdout",
     "output_type": "stream",
     "text": [
      "{'region': ['Carolina', 'Carolina', 'Carolina', 'Carolina', 'Carolina', 'Carolina', 'Carolina', 'San Juan', 'San Juan', 'San Juan', 'San Juan', 'San Juan', 'San Juan', 'San Juan', 'Guaynabo', 'Guaynabo', 'Guaynabo', 'Guaynabo', 'Guaynabo', 'Guaynabo', 'Guaynabo', 'LoÃza', 'LoÃza', 'LoÃza', 'LoÃza', 'LoÃza', 'LoÃza', 'LoÃza', 'Trujillo Alto', 'Trujillo Alto', 'Trujillo Alto', 'Trujillo Alto', 'Trujillo Alto', 'Trujillo Alto', 'Trujillo Alto', 'CanÃ³vanas', 'CanÃ³vanas', 'CanÃ³vanas', 'CanÃ³vanas', 'CanÃ³vanas', 'CanÃ³vanas', 'CanÃ³vanas'], 'ageRange': ['0 to 29', '30 to 39', '40 to 49', '50 to 59', '60 to 69', '70 to 79', '80+', '0 to 29', '30 to 39', '40 to 49', '50 to 59', '60 to 69', '70 to 79', '80+', '0 to 29', '30 to 39', '40 to 49', '50 to 59', '60 to 69', '70 to 79', '80+', '0 to 29', '30 to 39', '40 to 49', '50 to 59', '60 to 69', '70 to 79', '80+', '0 to 29', '30 to 39', '40 to 49', '50 to 59', '60 to 69', '70 to 79', '80+', '0 to 29', '30 to 39', '40 to 49', '50 to 59', '60 to 69', '70 to 79', '80+'], 'cases': [None, None, None, None, None, None, None, None, None, None, None, None, None, None, None, None, None, None, None, None, None, None, None, None, None, None, None, None, None, None, None, None, None, None, None, None, None, None, None, None, None, None]}\n",
      "           region  ageRange cases\n",
      "0        Carolina   0 to 29  None\n",
      "1        Carolina  30 to 39  None\n",
      "2        Carolina  40 to 49  None\n",
      "3        Carolina  50 to 59  None\n",
      "4        Carolina  60 to 69  None\n",
      "5        Carolina  70 to 79  None\n",
      "6        Carolina       80+  None\n",
      "7        San Juan   0 to 29  None\n",
      "8        San Juan  30 to 39  None\n",
      "9        San Juan  40 to 49  None\n",
      "10       San Juan  50 to 59  None\n",
      "11       San Juan  60 to 69  None\n",
      "12       San Juan  70 to 79  None\n",
      "13       San Juan       80+  None\n",
      "14       Guaynabo   0 to 29  None\n",
      "15       Guaynabo  30 to 39  None\n",
      "16       Guaynabo  40 to 49  None\n",
      "17       Guaynabo  50 to 59  None\n",
      "18       Guaynabo  60 to 69  None\n",
      "19       Guaynabo  70 to 79  None\n",
      "20       Guaynabo       80+  None\n",
      "21          LoÃza   0 to 29  None\n",
      "22          LoÃza  30 to 39  None\n",
      "23          LoÃza  40 to 49  None\n",
      "24          LoÃza  50 to 59  None\n",
      "25          LoÃza  60 to 69  None\n",
      "26          LoÃza  70 to 79  None\n",
      "27          LoÃza       80+  None\n",
      "28  Trujillo Alto   0 to 29  None\n",
      "29  Trujillo Alto  30 to 39  None\n",
      "30  Trujillo Alto  40 to 49  None\n",
      "31  Trujillo Alto  50 to 59  None\n",
      "32  Trujillo Alto  60 to 69  None\n",
      "33  Trujillo Alto  70 to 79  None\n",
      "34  Trujillo Alto       80+  None\n",
      "35     CanÃ³vanas   0 to 29  None\n",
      "36     CanÃ³vanas  30 to 39  None\n",
      "37     CanÃ³vanas  40 to 49  None\n",
      "38     CanÃ³vanas  50 to 59  None\n",
      "39     CanÃ³vanas  60 to 69  None\n",
      "40     CanÃ³vanas  70 to 79  None\n",
      "41     CanÃ³vanas       80+  None\n"
     ]
    }
   ],
   "source": [
    "pueblos = ['Carolina', 'San Juan', 'Guaynabo', 'LoÃza', 'Trujillo Alto', 'CanÃ³vanas']\n",
    "categorias = ['0 to 29', '30 to 39', '40 to 49', '50 to 59', '60 to 69', '70 to 79', '80+']\n",
    "\n",
    "data = {'region': [], 'ageRange':[], 'cases':[]}\n",
    "\n",
    "for pueblo in pueblos:\n",
    "        for categoria in categorias:\n",
    "                data['region'].append(pueblo)\n",
    "                data['ageRange'].append(categoria)\n",
    "                data['cases'].append(None)\n",
    "\n",
    "#data = {'region': [pueblo for pueblo in pueblos],\n",
    "#        'ageRange': [categoria for categoria in categorias],\n",
    "#        'cases': [None for pueblo in pueblos]\n",
    "#        }\n",
    "print(data)\n",
    "df = pd.DataFrame(data)\n",
    "print(df)"
   ]
  },
  {
   "cell_type": "code",
   "execution_count": 8,
   "metadata": {},
   "outputs": [
    {
     "name": "stdout",
     "output_type": "stream",
     "text": [
      "      region  ageRange  cases\n",
      "0    Arecibo   0 to 29  15864\n",
      "1    Arecibo  30 to 39   7016\n",
      "2    Arecibo  40 to 49   6491\n",
      "3    Arecibo  50 to 59   5328\n",
      "4    Arecibo  60 to 69   3418\n",
      "5    Arecibo  70 to 79   2177\n",
      "6    Arecibo       80+   1051\n",
      "7    Arecibo       NaN     25\n",
      "8    Bayamon   0 to 29  26801\n",
      "9    Bayamon  30 to 39  12502\n",
      "10   Bayamon  40 to 49  11393\n",
      "11   Bayamon  50 to 59   9621\n",
      "12   Bayamon  60 to 69   5884\n",
      "13   Bayamon  70 to 79   3135\n",
      "14   Bayamon       80+   1597\n",
      "15   Bayamon       NaN     44\n",
      "16    Caguas   0 to 29  22038\n",
      "17    Caguas  30 to 39   9830\n",
      "18    Caguas  40 to 49   9662\n",
      "19    Caguas  50 to 59   7567\n",
      "20    Caguas  60 to 69   4554\n",
      "21    Caguas  70 to 79   2573\n",
      "22    Caguas       80+   1277\n",
      "23    Caguas       NaN     58\n",
      "24   Fajardo   0 to 29   1507\n",
      "25   Fajardo  30 to 39    651\n",
      "26   Fajardo  40 to 49    715\n",
      "27   Fajardo  50 to 59    589\n",
      "28   Fajardo  60 to 69    313\n",
      "29   Fajardo  70 to 79    207\n",
      "30   Fajardo       80+     93\n",
      "31   Fajardo       NaN      0\n",
      "32  Mayaguez   0 to 29  11212\n",
      "33  Mayaguez  30 to 39   4603\n",
      "34  Mayaguez  40 to 49   5164\n",
      "35  Mayaguez  50 to 59   4073\n",
      "36  Mayaguez  60 to 69   2730\n",
      "37  Mayaguez  70 to 79   1806\n",
      "38  Mayaguez       80+    837\n",
      "39  Mayaguez       NaN     21\n",
      "40     Metro   0 to 29  37497\n",
      "41     Metro  30 to 39  18483\n",
      "42     Metro  40 to 49  16899\n",
      "43     Metro  50 to 59  14308\n",
      "44     Metro  60 to 69   8475\n",
      "45     Metro  70 to 79   4823\n",
      "46     Metro       80+   2602\n",
      "47     Metro       NaN     63\n",
      "48     Ponce   0 to 29  13575\n",
      "49     Ponce  30 to 39   5770\n",
      "50     Ponce  40 to 49   5656\n",
      "51     Ponce  50 to 59   4609\n",
      "52     Ponce  60 to 69   2650\n",
      "53     Ponce  70 to 79   1622\n",
      "54     Ponce       80+    767\n",
      "55     Ponce       NaN     35\n"
     ]
    }
   ],
   "source": [
    "url = 'cases1 2.xlsx'\n",
    "xls2 = pd.read_excel(url)\n",
    "\n",
    "print(xls2)"
   ]
  },
  {
   "cell_type": "code",
   "execution_count": 9,
   "metadata": {},
   "outputs": [
    {
     "data": {
      "text/html": [
       "<div>\n",
       "<style scoped>\n",
       "    .dataframe tbody tr th:only-of-type {\n",
       "        vertical-align: middle;\n",
       "    }\n",
       "\n",
       "    .dataframe tbody tr th {\n",
       "        vertical-align: top;\n",
       "    }\n",
       "\n",
       "    .dataframe thead th {\n",
       "        text-align: right;\n",
       "    }\n",
       "</style>\n",
       "<table border=\"1\" class=\"dataframe\">\n",
       "  <thead>\n",
       "    <tr style=\"text-align: right;\">\n",
       "      <th></th>\n",
       "      <th>region</th>\n",
       "      <th>ageRange</th>\n",
       "      <th>cases</th>\n",
       "    </tr>\n",
       "  </thead>\n",
       "  <tbody>\n",
       "    <tr>\n",
       "      <th>0</th>\n",
       "      <td>Arecibo</td>\n",
       "      <td>0 to 29</td>\n",
       "      <td>15864</td>\n",
       "    </tr>\n",
       "    <tr>\n",
       "      <th>1</th>\n",
       "      <td>Arecibo</td>\n",
       "      <td>30 to 39</td>\n",
       "      <td>7016</td>\n",
       "    </tr>\n",
       "    <tr>\n",
       "      <th>2</th>\n",
       "      <td>Arecibo</td>\n",
       "      <td>40 to 49</td>\n",
       "      <td>6491</td>\n",
       "    </tr>\n",
       "    <tr>\n",
       "      <th>3</th>\n",
       "      <td>Arecibo</td>\n",
       "      <td>50 to 59</td>\n",
       "      <td>5328</td>\n",
       "    </tr>\n",
       "    <tr>\n",
       "      <th>4</th>\n",
       "      <td>Arecibo</td>\n",
       "      <td>60 to 69</td>\n",
       "      <td>3418</td>\n",
       "    </tr>\n",
       "  </tbody>\n",
       "</table>\n",
       "</div>"
      ],
      "text/plain": [
       "    region  ageRange  cases\n",
       "0  Arecibo   0 to 29  15864\n",
       "1  Arecibo  30 to 39   7016\n",
       "2  Arecibo  40 to 49   6491\n",
       "3  Arecibo  50 to 59   5328\n",
       "4  Arecibo  60 to 69   3418"
      ]
     },
     "execution_count": 9,
     "metadata": {},
     "output_type": "execute_result"
    }
   ],
   "source": [
    "pd.set_option('display.max_rows', None)\n",
    "frames = [xls2, df]\n",
    "result = pd.concat(frames)\n",
    "sorted = result.sort_values(by='region')\n",
    "sorted.head()"
   ]
  },
  {
   "cell_type": "code",
   "execution_count": 10,
   "metadata": {},
   "outputs": [
    {
     "name": "stdout",
     "output_type": "stream",
     "text": [
      "      sex             deathDate    region  ageRange\n",
      "0    Male  2020-03-17T04:00:00Z     Metro  50 to 54\n",
      "1  Female  2020-03-19T04:00:00Z     Metro  50 to 54\n",
      "2    Male  2020-03-21T04:00:00Z  Mayaguez  65 to 69\n",
      "3  Female  2020-03-21T04:00:00Z       NaN  65 to 69\n",
      "4    Male  2020-03-22T04:00:00Z       NaN  70 to 74\n"
     ]
    }
   ],
   "source": [
    "url = 'yplldeaths 5.xlsx'\n",
    "xls3 = pd.read_excel(url)\n",
    "\n",
    "print(xls3.head())"
   ]
  },
  {
   "cell_type": "code",
   "execution_count": 11,
   "metadata": {},
   "outputs": [
    {
     "name": "stdout",
     "output_type": "stream",
     "text": [
      "Metro       1149\n",
      "Bayamon      869\n",
      "Caguas       592\n",
      "Mayaguez     513\n",
      "Arecibo      493\n",
      "Ponce        296\n",
      "Fajardo      181\n",
      "Name: region, dtype: int64\n"
     ]
    }
   ],
   "source": [
    "num_deaths_per_region = xls3['region'].value_counts(sort=True)\n",
    "print(num_deaths_per_region)"
   ]
  },
  {
   "cell_type": "code",
   "execution_count": 12,
   "metadata": {},
   "outputs": [
    {
     "data": {
      "text/plain": [
       "region    sex   \n",
       "Arecibo   Male      297\n",
       "          Female    196\n",
       "Bayamon   Male      490\n",
       "          Female    379\n",
       "Caguas    Male      345\n",
       "          Female    247\n",
       "Fajardo   Male       99\n",
       "          Female     82\n",
       "Mayaguez  Male      274\n",
       "          Female    239\n",
       "Metro     Male      623\n",
       "          Female    526\n",
       "Ponce     Male      168\n",
       "          Female    128\n",
       "Name: sex, dtype: int64"
      ]
     },
     "execution_count": 12,
     "metadata": {},
     "output_type": "execute_result"
    }
   ],
   "source": [
    "group_death = xls3.groupby('region')\n",
    "group_death['sex'].value_counts()"
   ]
  },
  {
   "cell_type": "code",
   "execution_count": 13,
   "metadata": {},
   "outputs": [
    {
     "data": {
      "text/plain": [
       "<AxesSubplot:ylabel='year,region'>"
      ]
     },
     "execution_count": 13,
     "metadata": {},
     "output_type": "execute_result"
    },
    {
     "data": {
      "image/png": "[encoded data removed]",
      "text/plain": [
       "<Figure size 432x288 with 1 Axes>"
      ]
     },
     "metadata": {
      "needs_background": "light"
     },
     "output_type": "display_data"
    }
   ],
   "source": [
    "import datetime as dt\n",
    "\n",
    "xls3['year'] = pd.to_datetime(xls3['deathDate'])\n",
    "xls3['year'] = xls3['year'].dt.year\n",
    "group_death = xls3.groupby('year')\n",
    "group_death['region'].value_counts().plot(kind='barh')"
   ]
  },
  {
   "cell_type": "code",
   "execution_count": 14,
   "metadata": {},
   "outputs": [
    {
     "name": "stdout",
     "output_type": "stream",
     "text": [
      "deathDate             ageRange  region\n",
      "2022-01-26T04:00:00Z  70 to 74  Metro     5\n",
      "Name: region, dtype: int64\n"
     ]
    }
   ],
   "source": [
    "group_per_day = xls3.groupby(['deathDate','ageRange'])['region'].value_counts(dropna=False)\n",
    "\n",
    "print(group_per_day[group_per_day > 4])"
   ]
  },
  {
   "cell_type": "code",
   "execution_count": 15,
   "metadata": {},
   "outputs": [
    {
     "name": "stdout",
     "output_type": "stream",
     "text": [
      "6     161\n",
      "14    158\n",
      "16    155\n",
      "18    152\n",
      "23    151\n",
      "Name: deathDate, dtype: int64\n"
     ]
    },
    {
     "name": "stderr",
     "output_type": "stream",
     "text": [
      "C:\\ProgramData\\Anaconda3\\lib\\site-packages\\pandas\\core\\arrays\\datetimes.py:1143: UserWarning: Converting to PeriodArray/Index representation will drop timezone information.\n",
      "  warnings.warn(\n"
     ]
    }
   ],
   "source": [
    "xls3['deathDate'] = pd.to_datetime(xls3['deathDate'])\n",
    "count_per_month = xls3['deathDate'].dt.to_period('M').value_counts()\n",
    "count_per_day = xls3['deathDate'].dt.day.value_counts()\n",
    "#print(count_per_month)\n",
    "print(count_per_day.head())\n",
    "#count_per_month.plot(kind='bar')"
   ]
  },
  {
   "cell_type": "code",
   "execution_count": 16,
   "metadata": {},
   "outputs": [
    {
     "data": {
      "image/png": "[encoded data removed]",
      "text/plain": [
       "<Figure size 432x288 with 1 Axes>"
      ]
     },
     "metadata": {
      "needs_background": "light"
     },
     "output_type": "display_data"
    }
   ],
   "source": [
    "# Import matplotlib\n",
    "import matplotlib.pyplot as plt\n",
    "\n",
    "# Resample rides to monthly, take the size, plot the results\n",
    "xls3.resample('W', on = 'deathDate')\\\n",
    "  .size()\\\n",
    "  .plot(ylim = [0, 200])\\\n",
    "  .set_title('Death per Week')\n",
    "\n",
    "# Show the results\n",
    "plt.show()"
   ]
  },
  {
   "cell_type": "code",
   "execution_count": null,
   "metadata": {},
   "outputs": [],
   "source": []
  }
 ],
 "metadata": {
  "interpreter": {
   "hash": "b3ba2566441a7c06988d0923437866b63cedc61552a5af99d1f4fb67d367b25f"
  },
  "kernelspec": {
   "display_name": "Python 3.9.7 ('base')",
   "language": "python",
   "name": "python3"
  },
  "language_info": {
   "codemirror_mode": {
    "name": "ipython",
    "version": 3
   },
   "file_extension": ".py",
   "mimetype": "text/x-python",
   "name": "python",
   "nbconvert_exporter": "python",
   "pygments_lexer": "ipython3",
   "version": "3.9.7"
  },
  "orig_nbformat": 4
 },
 "nbformat": 4,
 "nbformat_minor": 2
}
