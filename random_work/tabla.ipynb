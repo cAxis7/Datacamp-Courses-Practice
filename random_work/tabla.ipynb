{
 "cells": [
  {
   "cell_type": "code",
   "execution_count": 13,
   "metadata": {},
   "outputs": [
    {
     "name": "stdout",
     "output_type": "stream",
     "text": [
      "Index(['sex', 'deathDate', 'region', 'ageRange'], dtype='object')\n",
      "      sex  deathDate    region  ageRange\n",
      "0    Male 2020-03-17     Metro  50 to 54\n",
      "1  Female 2020-03-19     Metro  50 to 54\n",
      "2    Male 2020-03-21  Mayaguez  65 to 69\n",
      "3  Female 2022-03-21       NaN  65 to 69\n",
      "4    Male 2020-03-22       NaN  70 to 74\n",
      "5  Female 2020-03-22     Metro  80 to 74\n"
     ]
    }
   ],
   "source": [
    "import pandas as pd\n",
    "\n",
    "url = 'muertes.xlsx'\n",
    "xls = pd.read_excel(url, sheet_name = 'Sheet1')\n",
    "\n",
    "print(xls.keys())\n",
    "\n",
    "print(xls)"
   ]
  },
  {
   "cell_type": "code",
   "execution_count": 14,
   "metadata": {},
   "outputs": [
    {
     "name": "stdout",
     "output_type": "stream",
     "text": [
      "      sex  deathDate region  ageRange\n",
      "0    Male 2020-03-17  Metro  50 to 54\n",
      "1  Female 2020-03-19  Metro  50 to 54\n",
      "5  Female 2020-03-22  Metro  80 to 74\n"
     ]
    }
   ],
   "source": [
    "metro = xls[xls['region'] == 'Metro']\n",
    "print(metro)"
   ]
  },
  {
   "cell_type": "code",
   "execution_count": 15,
   "metadata": {},
   "outputs": [
    {
     "name": "stdout",
     "output_type": "stream",
     "text": [
      "      sex  deathDate region  ageRange\n",
      "0    Male 2020-03-17    NaN  50 to 54\n",
      "1  Female 2020-03-19    NaN  50 to 54\n",
      "5  Female 2020-03-22    NaN  80 to 74\n"
     ]
    },
    {
     "name": "stderr",
     "output_type": "stream",
     "text": [
      "C:\\ProgramData\\Anaconda3\\lib\\site-packages\\pandas\\core\\indexing.py:1817: SettingWithCopyWarning: \n",
      "A value is trying to be set on a copy of a slice from a DataFrame.\n",
      "Try using .loc[row_indexer,col_indexer] = value instead\n",
      "\n",
      "See the caveats in the documentation: https://pandas.pydata.org/pandas-docs/stable/user_guide/indexing.html#returning-a-view-versus-a-copy\n",
      "  self._setitem_single_column(loc, value, pi)\n"
     ]
    }
   ],
   "source": [
    "metro.loc[metro.region == 'Metro', 'region'] = 'NaN'\n",
    "print(metro)\n"
   ]
  },
  {
   "cell_type": "code",
   "execution_count": 16,
   "metadata": {},
   "outputs": [
    {
     "name": "stdout",
     "output_type": "stream",
     "text": [
      "      sex  deathDate    region  ageRange\n",
      "0    Male 2020-03-17     Metro  50 to 54\n",
      "1  Female 2020-03-19     Metro  50 to 54\n",
      "2    Male 2020-03-21  Mayaguez  65 to 69\n",
      "3  Female 2022-03-21       NaN  65 to 69\n",
      "4    Male 2020-03-22       NaN  70 to 74\n",
      "5  Female 2020-03-22     Metro  80 to 74\n",
      "0    Male 2020-03-17       NaN  50 to 54\n",
      "1  Female 2020-03-19       NaN  50 to 54\n",
      "5  Female 2020-03-22       NaN  80 to 74\n"
     ]
    }
   ],
   "source": [
    "print(xls.append(metro))"
   ]
  }
 ],
 "metadata": {
  "interpreter": {
   "hash": "b3ba2566441a7c06988d0923437866b63cedc61552a5af99d1f4fb67d367b25f"
  },
  "kernelspec": {
   "display_name": "Python 3.9.7 ('base')",
   "language": "python",
   "name": "python3"
  },
  "language_info": {
   "codemirror_mode": {
    "name": "ipython",
    "version": 3
   },
   "file_extension": ".py",
   "mimetype": "text/x-python",
   "name": "python",
   "nbconvert_exporter": "python",
   "pygments_lexer": "ipython3",
   "version": "3.9.7"
  },
  "orig_nbformat": 4
 },
 "nbformat": 4,
 "nbformat_minor": 2
}
